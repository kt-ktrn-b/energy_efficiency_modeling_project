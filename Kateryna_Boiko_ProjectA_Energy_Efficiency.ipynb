{
  "nbformat": 4,
  "nbformat_minor": 0,
  "metadata": {
    "colab": {
      "provenance": []
    },
    "kernelspec": {
      "name": "python3",
      "display_name": "Python 3"
    },
    "language_info": {
      "name": "python"
    }
  },
  "cells": [
    {
      "cell_type": "markdown",
      "source": [],
      "metadata": {
        "id": "HQA67EY4KYxV"
      }
    },
    {
      "cell_type": "markdown",
      "source": [
        "Predicting the energy efficiency of buildings\n",
        "For this challenge, you'll work with the renowned UCI Energy Efficiency dataset - real data from 768\n",
        "building simulations that explores how design choices impact heating and cooling needs. Created\n",
        "by researchers at the University of California, Irvine, this dataset is a machine learning classic that\n",
        "perfectly bridges academic learning with real-world impact."
      ],
      "metadata": {
        "id": "z4-r-CvzK108"
      }
    },
    {
      "cell_type": "markdown",
      "source": [
        "Discover which building features drive energy consumption, compare different prediction models,\n",
        "and translate your findings into concrete business recommendations."
      ],
      "metadata": {
        "id": "282rjJzlLJc0"
      }
    },
    {
      "cell_type": "code",
      "source": [
        "# Import Required Packages\n",
        "import pandas as pd\n",
        "import matplotlib.pyplot as plt\n",
        "from sklearn.cluster import KMeans\n",
        "from sklearn.preprocessing import StandardScaler\n",
        "\n",
        "# Loading and examining the dataset\n",
        "penguins_df = pd.read_csv(\"penguins.csv\")\n",
        "penguins_df.head()\n"
      ],
      "metadata": {
        "id": "aP5-ehE-S9E0"
      },
      "execution_count": null,
      "outputs": []
    },
    {
      "cell_type": "markdown",
      "source": [
        "Part 1: Data Exploration & Preparation\n",
        "Tasks:\n",
        "1. Load and explore the UCI Energy Efficiency dataset\n",
        "2. Analyze relationships between building features (surface area, glazing, orientation) and\n",
        "energy loads\n",
        "3. Prepare data for modeling (train/test split, feature selection)\n",
        "Ask yourself the following questions:\n",
        "● Which building characteristics seem to most strongly affect heating/cooling energy\n",
        "consumption?\n",
        "● Which features could be used for prediction?"
      ],
      "metadata": {
        "id": "EBQy5vUjOC39"
      }
    },
    {
      "cell_type": "markdown",
      "source": [
        "Part 2: Model Training & Evaluation\n",
        "Tasks:\n",
        "Train at least 2 models e.g. Linear Regression and Random Forest\n",
        "Compare performance using R² and RMSE metrics\n",
        "Analyze feature importance from both models\n",
        "Key Questions:\n",
        "● Which model performs better and why?\n",
        "● What are the 3 most important features for energy prediction?\n",
        "● How accurate are your predictions in practical terms?"
      ],
      "metadata": {
        "id": "rBTpJdDkPtNP"
      }
    },
    {
      "cell_type": "markdown",
      "source": [
        "Part 3: Business Case Documentation\n",
        "Tasks:\n",
        "1. Explore the appliedAI Institute’s Use Case Platform to get inspired by best practice - this\n",
        "platform represents Europe's largest openly accessible source of curated high-quality AI use\n",
        "cases\n",
        "2. Document your own findings in this project using the appliedAI Use Case Platform\n",
        "template.\n",
        "3. Take screenshots of your completed Use Case template on the platform and add these to\n",
        "a dedicated folder “/use\n",
        "case\n",
        "_\n",
        "_\n",
        "documentation/” in your GitHub\n",
        "Minimal Required Sections for the appliedAI Institute Use Case:\n",
        "\n",
        "● Brief description: What business problem does this solve?\n",
        "\n",
        "● Industry:\n",
        "\n",
        "● Value gain:\n",
        "\n",
        "● AI capabilities:\n",
        "\n",
        "● Data sources:\n",
        "\n",
        "● Expected business impact:"
      ],
      "metadata": {
        "id": "7ZiHp3feQFAI"
      }
    },
    {
      "cell_type": "code",
      "source": [],
      "metadata": {
        "id": "hNMxUKHLOCUu"
      },
      "execution_count": null,
      "outputs": []
    }
  ]
}